{
 "cells": [
  {
   "cell_type": "markdown",
   "id": "4bbb5605-280a-477e-a1cf-c3ec15e41d3b",
   "metadata": {},
   "source": [
    "<span style=\"font-size:24px;\">**Predicting Usage of PlaiCraft**</span>"
   ]
  },
  {
   "cell_type": "markdown",
   "id": "95b74150-307e-460c-a126-7089fd65f926",
   "metadata": {},
   "source": [
    "<span style=\"font-size:18px;\">**Introduction**</span>"
   ]
  },
  {
   "cell_type": "markdown",
   "id": "0c92e332-30c6-4f28-9299-918d504f4f2b",
   "metadata": {},
   "source": [
    "A current research study is collecting data about how people play video games on a Minecraft server. The research group conducting this study needs to maximize their recruitment efforts so that they have enough data for their specific research; thus, they have proposed a couple of questions that we, as data science students, will explore and try to answer using our knowledge and the application of data science itself. The question we chose to focus on was, “Which \"kinds\" of players are most likely to contribute a large amount of data?” In particular, we are going to use data science to predict whether the age and experience level of participants in the study will influence how much time they spend on the server (i.e how much data they contribute). (explain more?)"
   ]
  },
  {
   "cell_type": "markdown",
   "id": "24435124-7a0e-4775-9d4b-3e8620768521",
   "metadata": {},
   "source": [
    "<span style=\"font-size:18px;\">**Our Question**</span>"
   ]
  },
  {
   "cell_type": "markdown",
   "id": "2f268210-3cd0-494b-b2e3-c20c421ec253",
   "metadata": {},
   "source": [
    "Can the age and experience level of participants influence how much time is spent on the server? "
   ]
  },
  {
   "cell_type": "markdown",
   "id": "39805580-60cd-4d9f-9281-283635deb48c",
   "metadata": {},
   "source": [
    "<span style=\"font-size:18px;\">**The Data**</span>"
   ]
  },
  {
   "cell_type": "markdown",
   "id": "8d73e7a4-69b0-486e-a82e-8b1d9ed76698",
   "metadata": {},
   "source": [
    "\n",
    "\n",
    "Within this video game research data, there are **two main datasets**:\n",
    " \n",
    "1. **Players.csv** dataset describes general summative information about each participant. The dataset includes 9 columns (variables) and 196 rows (observations). The table below describes each variable within the data set:\n",
    "\n",
    "\n",
    "| Variable | Type of Variable | Description |\n",
    "|----------|----------|----------|\n",
    "| hashedEmail   | character variable (chr) | Participant’s email in unique character code |\n",
    "| experience\t| character variable (chr) | Participant’s previous Minecraft experience |\n",
    "| subscribe\t| logical variable (lgl) | If participant is subscribed to PlaiCraft’s email updates |\n",
    "| played_hours\t| double variable (dbl) | Number of hours played by each participant |\n",
    "| name\t| character variable (chr) | Name of participant |\n",
    "| gender\t| character variable (chr) | Gender of participant |\n",
    "| age   | double variable (dbl) | Age of participant |\n",
    "| individualID\t| logical variable (lgl) | ID of participant |\n",
    "| organizationName\t| logical variable (lgl) | Organization of participant |\n",
    "\n",
    "\n",
    "2. **Sessions.csv** focuses on each participant’s play time sessions.  This dataset includes 5 columns (variables) and currently 1535 rows (observations). Below describes each variable within the data set:\n",
    " \n",
    "| Variable | Type of Variable | Description |\n",
    "|----------|----------|----------|\n",
    "| hashedEmail   | character variable (chr) | Participant’s email in unique character code |\n",
    "| start_time\t| character variable (chr) | Date and start time of a play session for each participant |\n",
    "| end_time\t| character variable (chr) | Date and end time of a play session for each participant |\n",
    "| original_start_time\t| double variable (dbl) | Scheduled start time in seconds since January 1st, 1970 |\n",
    "| original_end_time\t| double variable (dbl) | Scheduled end time in seconds since January 1st, 1970 |\n"
   ]
  },
  {
   "attachments": {},
   "cell_type": "markdown",
   "id": "8b950578-e7d2-456b-83ff-fff9973a97ca",
   "metadata": {},
   "source": [
    "In this report, we will be using **dataset #1**, although both can be important; our question requires further analysis of dataset #1, **players.csv**. Before we begin using the dataset, let's evaluate some potential issues with the selected data set. \n",
    "\n",
    "Potential Issues within this dataset:\n",
    "\n",
    "    - Experience variable should be stored as a factor variable since it refers to a specific set of catergories\n",
    "    - IndividualID & OrganizationName are missing values, thus unclear if these variables are signficant\n",
    "    - Age of participants may be unaccurate as participant's could give false information\n",
    "    - Privacy concerns regarding participant's name and email"
   ]
  },
  {
   "cell_type": "markdown",
   "id": "27d823d6-7924-48aa-9269-ca7fdbb7ff8e",
   "metadata": {},
   "source": [
    "<span style=\"font-size:18px;\">**Beginning Our Analysis**</span>"
   ]
  },
  {
   "cell_type": "markdown",
   "id": "162b8dc5-2e0c-4628-bc63-1431e660533e",
   "metadata": {},
   "source": [
    "Before we begin using our dataset to predict and answer our question at hand. We first need to do the necessary steps to load in our data and tidy it up so our functions recognize and can use it."
   ]
  },
  {
   "cell_type": "markdown",
   "id": "e1d436c0-b294-4303-bee6-3d35c79ddcaa",
   "metadata": {},
   "source": [
    "Let's begin by reading/loading in our data. Before that, let's load the necessary packages that have the functions we can use to actually read in our data."
   ]
  },
  {
   "cell_type": "code",
   "execution_count": 3,
   "id": "1d052580-f8de-4421-befd-d6a1eef3734e",
   "metadata": {},
   "outputs": [
    {
     "name": "stderr",
     "output_type": "stream",
     "text": [
      "── \u001b[1mAttaching core tidyverse packages\u001b[22m ──────────────────────── tidyverse 2.0.0 ──\n",
      "\u001b[32m✔\u001b[39m \u001b[34mdplyr    \u001b[39m 1.1.4     \u001b[32m✔\u001b[39m \u001b[34mreadr    \u001b[39m 2.1.5\n",
      "\u001b[32m✔\u001b[39m \u001b[34mforcats  \u001b[39m 1.0.0     \u001b[32m✔\u001b[39m \u001b[34mstringr  \u001b[39m 1.5.1\n",
      "\u001b[32m✔\u001b[39m \u001b[34mggplot2  \u001b[39m 3.5.1     \u001b[32m✔\u001b[39m \u001b[34mtibble   \u001b[39m 3.2.1\n",
      "\u001b[32m✔\u001b[39m \u001b[34mlubridate\u001b[39m 1.9.3     \u001b[32m✔\u001b[39m \u001b[34mtidyr    \u001b[39m 1.3.1\n",
      "\u001b[32m✔\u001b[39m \u001b[34mpurrr    \u001b[39m 1.0.2     \n",
      "── \u001b[1mConflicts\u001b[22m ────────────────────────────────────────── tidyverse_conflicts() ──\n",
      "\u001b[31m✖\u001b[39m \u001b[34mdplyr\u001b[39m::\u001b[32mfilter()\u001b[39m masks \u001b[34mstats\u001b[39m::filter()\n",
      "\u001b[31m✖\u001b[39m \u001b[34mdplyr\u001b[39m::\u001b[32mlag()\u001b[39m    masks \u001b[34mstats\u001b[39m::lag()\n",
      "\u001b[36mℹ\u001b[39m Use the conflicted package (\u001b[3m\u001b[34m<http://conflicted.r-lib.org/>\u001b[39m\u001b[23m) to force all conflicts to become errors\n",
      "── \u001b[1mAttaching packages\u001b[22m ────────────────────────────────────── tidymodels 1.1.1 ──\n",
      "\n",
      "\u001b[32m✔\u001b[39m \u001b[34mbroom       \u001b[39m 1.0.6     \u001b[32m✔\u001b[39m \u001b[34mrsample     \u001b[39m 1.2.1\n",
      "\u001b[32m✔\u001b[39m \u001b[34mdials       \u001b[39m 1.3.0     \u001b[32m✔\u001b[39m \u001b[34mtune        \u001b[39m 1.1.2\n",
      "\u001b[32m✔\u001b[39m \u001b[34minfer       \u001b[39m 1.0.7     \u001b[32m✔\u001b[39m \u001b[34mworkflows   \u001b[39m 1.1.4\n",
      "\u001b[32m✔\u001b[39m \u001b[34mmodeldata   \u001b[39m 1.4.0     \u001b[32m✔\u001b[39m \u001b[34mworkflowsets\u001b[39m 1.0.1\n",
      "\u001b[32m✔\u001b[39m \u001b[34mparsnip     \u001b[39m 1.2.1     \u001b[32m✔\u001b[39m \u001b[34myardstick   \u001b[39m 1.3.1\n",
      "\u001b[32m✔\u001b[39m \u001b[34mrecipes     \u001b[39m 1.1.0     \n",
      "\n",
      "── \u001b[1mConflicts\u001b[22m ───────────────────────────────────────── tidymodels_conflicts() ──\n",
      "\u001b[31m✖\u001b[39m \u001b[34mscales\u001b[39m::\u001b[32mdiscard()\u001b[39m masks \u001b[34mpurrr\u001b[39m::discard()\n",
      "\u001b[31m✖\u001b[39m \u001b[34mdplyr\u001b[39m::\u001b[32mfilter()\u001b[39m   masks \u001b[34mstats\u001b[39m::filter()\n",
      "\u001b[31m✖\u001b[39m \u001b[34mrecipes\u001b[39m::\u001b[32mfixed()\u001b[39m  masks \u001b[34mstringr\u001b[39m::fixed()\n",
      "\u001b[31m✖\u001b[39m \u001b[34mdplyr\u001b[39m::\u001b[32mlag()\u001b[39m      masks \u001b[34mstats\u001b[39m::lag()\n",
      "\u001b[31m✖\u001b[39m \u001b[34myardstick\u001b[39m::\u001b[32mspec()\u001b[39m masks \u001b[34mreadr\u001b[39m::spec()\n",
      "\u001b[31m✖\u001b[39m \u001b[34mrecipes\u001b[39m::\u001b[32mstep()\u001b[39m   masks \u001b[34mstats\u001b[39m::step()\n",
      "\u001b[34m•\u001b[39m Use \u001b[32mtidymodels_prefer()\u001b[39m to resolve common conflicts.\n",
      "\n"
     ]
    }
   ],
   "source": [
    "### Run this cell before continuing. These library packages in R give us functions we can us\n",
    "library(tidyverse)\n",
    "library(repr)\n",
    "library(tidymodels)\n",
    "options(repr.matrix.max.rows = 6)\n",
    "library(tidyr)\n",
    "library(dplyr)"
   ]
  },
  {
   "cell_type": "markdown",
   "id": "b0bb0a34-25e2-4a66-a9d3-11475142f7f0",
   "metadata": {},
   "source": [
    "Now we can read in our dataset."
   ]
  },
  {
   "cell_type": "code",
   "execution_count": 6,
   "id": "9fc70a0c-d183-43c1-a949-a71f27e5b332",
   "metadata": {},
   "outputs": [
    {
     "name": "stderr",
     "output_type": "stream",
     "text": [
      "\u001b[1mRows: \u001b[22m\u001b[34m196\u001b[39m \u001b[1mColumns: \u001b[22m\u001b[34m9\u001b[39m\n",
      "\u001b[36m──\u001b[39m \u001b[1mColumn specification\u001b[22m \u001b[36m────────────────────────────────────────────────────────\u001b[39m\n",
      "\u001b[1mDelimiter:\u001b[22m \",\"\n",
      "\u001b[31mchr\u001b[39m (4): experience, hashedEmail, name, gender\n",
      "\u001b[32mdbl\u001b[39m (2): played_hours, age\n",
      "\u001b[33mlgl\u001b[39m (3): subscribe, individualId, organizationName\n",
      "\n",
      "\u001b[36mℹ\u001b[39m Use `spec()` to retrieve the full column specification for this data.\n",
      "\u001b[36mℹ\u001b[39m Specify the column types or set `show_col_types = FALSE` to quiet this message.\n"
     ]
    },
    {
     "data": {
      "text/html": [
       "<table class=\"dataframe\">\n",
       "<caption>A spec_tbl_df: 196 × 9</caption>\n",
       "<thead>\n",
       "\t<tr><th scope=col>experience</th><th scope=col>subscribe</th><th scope=col>hashedEmail</th><th scope=col>played_hours</th><th scope=col>name</th><th scope=col>gender</th><th scope=col>age</th><th scope=col>individualId</th><th scope=col>organizationName</th></tr>\n",
       "\t<tr><th scope=col>&lt;chr&gt;</th><th scope=col>&lt;lgl&gt;</th><th scope=col>&lt;chr&gt;</th><th scope=col>&lt;dbl&gt;</th><th scope=col>&lt;chr&gt;</th><th scope=col>&lt;chr&gt;</th><th scope=col>&lt;dbl&gt;</th><th scope=col>&lt;lgl&gt;</th><th scope=col>&lt;lgl&gt;</th></tr>\n",
       "</thead>\n",
       "<tbody>\n",
       "\t<tr><td>Pro    </td><td> TRUE</td><td>f6daba428a5e19a3d47574858c13550499be23603422e6a0ee9728f8b53e192d</td><td>30.3</td><td>Morgan   </td><td>Male</td><td> 9</td><td>NA</td><td>NA</td></tr>\n",
       "\t<tr><td>Veteran</td><td> TRUE</td><td>f3c813577c458ba0dfef80996f8f32c93b6e8af1fa939732842f2312358a88e9</td><td> 3.8</td><td>Christian</td><td>Male</td><td>17</td><td>NA</td><td>NA</td></tr>\n",
       "\t<tr><td>Veteran</td><td>FALSE</td><td>b674dd7ee0d24096d1c019615ce4d12b20fcbff12d79d3c5a9d2118eb7ccbb28</td><td> 0.0</td><td>Blake    </td><td>Male</td><td>17</td><td>NA</td><td>NA</td></tr>\n",
       "\t<tr><td>⋮</td><td>⋮</td><td>⋮</td><td>⋮</td><td>⋮</td><td>⋮</td><td>⋮</td><td>⋮</td><td>⋮</td></tr>\n",
       "\t<tr><td>Amateur</td><td>FALSE</td><td>d572f391d452b76ea2d7e5e53a3d38bfd7499c7399db299bd4fedb06a46ad5bb</td><td>0.0</td><td>Dylan </td><td>Prefer not to say</td><td>17</td><td>NA</td><td>NA</td></tr>\n",
       "\t<tr><td>Amateur</td><td>FALSE</td><td>f19e136ddde68f365afc860c725ccff54307dedd13968e896a9f890c40aea436</td><td>2.3</td><td>Harlow</td><td>Male             </td><td>17</td><td>NA</td><td>NA</td></tr>\n",
       "\t<tr><td>Pro    </td><td> TRUE</td><td>d9473710057f7d42f36570f0be83817a4eea614029ff90cf50d8889cdd729d11</td><td>0.2</td><td>Ahmed </td><td>Other            </td><td>91</td><td>NA</td><td>NA</td></tr>\n",
       "</tbody>\n",
       "</table>\n"
      ],
      "text/latex": [
       "A spec\\_tbl\\_df: 196 × 9\n",
       "\\begin{tabular}{lllllllll}\n",
       " experience & subscribe & hashedEmail & played\\_hours & name & gender & age & individualId & organizationName\\\\\n",
       " <chr> & <lgl> & <chr> & <dbl> & <chr> & <chr> & <dbl> & <lgl> & <lgl>\\\\\n",
       "\\hline\n",
       "\t Pro     &  TRUE & f6daba428a5e19a3d47574858c13550499be23603422e6a0ee9728f8b53e192d & 30.3 & Morgan    & Male &  9 & NA & NA\\\\\n",
       "\t Veteran &  TRUE & f3c813577c458ba0dfef80996f8f32c93b6e8af1fa939732842f2312358a88e9 &  3.8 & Christian & Male & 17 & NA & NA\\\\\n",
       "\t Veteran & FALSE & b674dd7ee0d24096d1c019615ce4d12b20fcbff12d79d3c5a9d2118eb7ccbb28 &  0.0 & Blake     & Male & 17 & NA & NA\\\\\n",
       "\t ⋮ & ⋮ & ⋮ & ⋮ & ⋮ & ⋮ & ⋮ & ⋮ & ⋮\\\\\n",
       "\t Amateur & FALSE & d572f391d452b76ea2d7e5e53a3d38bfd7499c7399db299bd4fedb06a46ad5bb & 0.0 & Dylan  & Prefer not to say & 17 & NA & NA\\\\\n",
       "\t Amateur & FALSE & f19e136ddde68f365afc860c725ccff54307dedd13968e896a9f890c40aea436 & 2.3 & Harlow & Male              & 17 & NA & NA\\\\\n",
       "\t Pro     &  TRUE & d9473710057f7d42f36570f0be83817a4eea614029ff90cf50d8889cdd729d11 & 0.2 & Ahmed  & Other             & 91 & NA & NA\\\\\n",
       "\\end{tabular}\n"
      ],
      "text/markdown": [
       "\n",
       "A spec_tbl_df: 196 × 9\n",
       "\n",
       "| experience &lt;chr&gt; | subscribe &lt;lgl&gt; | hashedEmail &lt;chr&gt; | played_hours &lt;dbl&gt; | name &lt;chr&gt; | gender &lt;chr&gt; | age &lt;dbl&gt; | individualId &lt;lgl&gt; | organizationName &lt;lgl&gt; |\n",
       "|---|---|---|---|---|---|---|---|---|\n",
       "| Pro     |  TRUE | f6daba428a5e19a3d47574858c13550499be23603422e6a0ee9728f8b53e192d | 30.3 | Morgan    | Male |  9 | NA | NA |\n",
       "| Veteran |  TRUE | f3c813577c458ba0dfef80996f8f32c93b6e8af1fa939732842f2312358a88e9 |  3.8 | Christian | Male | 17 | NA | NA |\n",
       "| Veteran | FALSE | b674dd7ee0d24096d1c019615ce4d12b20fcbff12d79d3c5a9d2118eb7ccbb28 |  0.0 | Blake     | Male | 17 | NA | NA |\n",
       "| ⋮ | ⋮ | ⋮ | ⋮ | ⋮ | ⋮ | ⋮ | ⋮ | ⋮ |\n",
       "| Amateur | FALSE | d572f391d452b76ea2d7e5e53a3d38bfd7499c7399db299bd4fedb06a46ad5bb | 0.0 | Dylan  | Prefer not to say | 17 | NA | NA |\n",
       "| Amateur | FALSE | f19e136ddde68f365afc860c725ccff54307dedd13968e896a9f890c40aea436 | 2.3 | Harlow | Male              | 17 | NA | NA |\n",
       "| Pro     |  TRUE | d9473710057f7d42f36570f0be83817a4eea614029ff90cf50d8889cdd729d11 | 0.2 | Ahmed  | Other             | 91 | NA | NA |\n",
       "\n"
      ],
      "text/plain": [
       "    experience subscribe\n",
       "1   Pro         TRUE    \n",
       "2   Veteran     TRUE    \n",
       "3   Veteran    FALSE    \n",
       "⋮   ⋮          ⋮        \n",
       "194 Amateur    FALSE    \n",
       "195 Amateur    FALSE    \n",
       "196 Pro         TRUE    \n",
       "    hashedEmail                                                     \n",
       "1   f6daba428a5e19a3d47574858c13550499be23603422e6a0ee9728f8b53e192d\n",
       "2   f3c813577c458ba0dfef80996f8f32c93b6e8af1fa939732842f2312358a88e9\n",
       "3   b674dd7ee0d24096d1c019615ce4d12b20fcbff12d79d3c5a9d2118eb7ccbb28\n",
       "⋮   ⋮                                                               \n",
       "194 d572f391d452b76ea2d7e5e53a3d38bfd7499c7399db299bd4fedb06a46ad5bb\n",
       "195 f19e136ddde68f365afc860c725ccff54307dedd13968e896a9f890c40aea436\n",
       "196 d9473710057f7d42f36570f0be83817a4eea614029ff90cf50d8889cdd729d11\n",
       "    played_hours name      gender            age individualId organizationName\n",
       "1   30.3         Morgan    Male               9  NA           NA              \n",
       "2    3.8         Christian Male              17  NA           NA              \n",
       "3    0.0         Blake     Male              17  NA           NA              \n",
       "⋮   ⋮            ⋮         ⋮                 ⋮   ⋮            ⋮               \n",
       "194 0.0          Dylan     Prefer not to say 17  NA           NA              \n",
       "195 2.3          Harlow    Male              17  NA           NA              \n",
       "196 0.2          Ahmed     Other             91  NA           NA              "
      ]
     },
     "metadata": {},
     "output_type": "display_data"
    }
   ],
   "source": [
    "#Since our dataset comes from a url link, we must read it in this way.\n",
    "url_1 <- \"https://drive.google.com/uc?export=download&id=1Mw9vW0hjTJwRWx0bDXiSpYsO3gKogaPz\"\n",
    "players_data <- read_csv(url_1)\n",
    "players_data"
   ]
  },
  {
   "cell_type": "markdown",
   "id": "671a3cd7-6b2e-4e41-95cc-7d099e95a89c",
   "metadata": {},
   "source": [
    "Referring back to our question, we want the specific columns **age**, **experience**, and **played_hours**. So let's select these specific columns and name our new data set **players_data_selected**."
   ]
  },
  {
   "cell_type": "code",
   "execution_count": 8,
   "id": "ee0526c1-f49c-421a-b292-e9d55f42ae4e",
   "metadata": {},
   "outputs": [
    {
     "data": {
      "text/html": [
       "<table class=\"dataframe\">\n",
       "<caption>A tibble: 196 × 3</caption>\n",
       "<thead>\n",
       "\t<tr><th scope=col>age</th><th scope=col>experience</th><th scope=col>played_hours</th></tr>\n",
       "\t<tr><th scope=col>&lt;dbl&gt;</th><th scope=col>&lt;chr&gt;</th><th scope=col>&lt;dbl&gt;</th></tr>\n",
       "</thead>\n",
       "<tbody>\n",
       "\t<tr><td> 9</td><td>Pro    </td><td>30.3</td></tr>\n",
       "\t<tr><td>17</td><td>Veteran</td><td> 3.8</td></tr>\n",
       "\t<tr><td>17</td><td>Veteran</td><td> 0.0</td></tr>\n",
       "\t<tr><td>⋮</td><td>⋮</td><td>⋮</td></tr>\n",
       "\t<tr><td>17</td><td>Amateur</td><td>0.0</td></tr>\n",
       "\t<tr><td>17</td><td>Amateur</td><td>2.3</td></tr>\n",
       "\t<tr><td>91</td><td>Pro    </td><td>0.2</td></tr>\n",
       "</tbody>\n",
       "</table>\n"
      ],
      "text/latex": [
       "A tibble: 196 × 3\n",
       "\\begin{tabular}{lll}\n",
       " age & experience & played\\_hours\\\\\n",
       " <dbl> & <chr> & <dbl>\\\\\n",
       "\\hline\n",
       "\t  9 & Pro     & 30.3\\\\\n",
       "\t 17 & Veteran &  3.8\\\\\n",
       "\t 17 & Veteran &  0.0\\\\\n",
       "\t ⋮ & ⋮ & ⋮\\\\\n",
       "\t 17 & Amateur & 0.0\\\\\n",
       "\t 17 & Amateur & 2.3\\\\\n",
       "\t 91 & Pro     & 0.2\\\\\n",
       "\\end{tabular}\n"
      ],
      "text/markdown": [
       "\n",
       "A tibble: 196 × 3\n",
       "\n",
       "| age &lt;dbl&gt; | experience &lt;chr&gt; | played_hours &lt;dbl&gt; |\n",
       "|---|---|---|\n",
       "|  9 | Pro     | 30.3 |\n",
       "| 17 | Veteran |  3.8 |\n",
       "| 17 | Veteran |  0.0 |\n",
       "| ⋮ | ⋮ | ⋮ |\n",
       "| 17 | Amateur | 0.0 |\n",
       "| 17 | Amateur | 2.3 |\n",
       "| 91 | Pro     | 0.2 |\n",
       "\n"
      ],
      "text/plain": [
       "    age experience played_hours\n",
       "1    9  Pro        30.3        \n",
       "2   17  Veteran     3.8        \n",
       "3   17  Veteran     0.0        \n",
       "⋮   ⋮   ⋮          ⋮           \n",
       "194 17  Amateur    0.0         \n",
       "195 17  Amateur    2.3         \n",
       "196 91  Pro        0.2         "
      ]
     },
     "metadata": {},
     "output_type": "display_data"
    }
   ],
   "source": [
    "players_data_selected <- players_data |>\n",
    "    select(age, experience, played_hours)\n",
    "players_data_selected"
   ]
  },
  {
   "cell_type": "code",
   "execution_count": null,
   "id": "c43c2246-9f7f-4ce3-a8e1-0c96b7706574",
   "metadata": {},
   "outputs": [],
   "source": []
  }
 ],
 "metadata": {
  "kernelspec": {
   "display_name": "R",
   "language": "R",
   "name": "ir"
  },
  "language_info": {
   "codemirror_mode": "r",
   "file_extension": ".r",
   "mimetype": "text/x-r-source",
   "name": "R",
   "pygments_lexer": "r",
   "version": "4.3.3"
  }
 },
 "nbformat": 4,
 "nbformat_minor": 5
}
